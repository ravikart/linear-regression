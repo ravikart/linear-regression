{
 "cells": [
  {
   "cell_type": "code",
   "execution_count": 1,
   "metadata": {},
   "outputs": [],
   "source": [
    "from sklearn import datasets\n",
    "import pandas as pd\n",
    "import numpy as np\n",
    "import matplotlib.pyplot as plt\n",
    "from sklearn import model_selection\n",
    "\n",
    "from sklearn import preprocessing\n"
   ]
  },
  {
   "cell_type": "code",
   "execution_count": 2,
   "metadata": {},
   "outputs": [],
   "source": [
    "train = np.loadtxt('training.csv', delimiter = ',')\n",
    "test = np.loadtxt('test.csv', delimiter = ',')"
   ]
  },
  {
   "cell_type": "code",
   "execution_count": 3,
   "metadata": {},
   "outputs": [],
   "source": [
    "def cost(x, y ,m):\n",
    "    M = len(x)\n",
    "    cost = 0\n",
    "    for i in range(M):\n",
    "        cost+= (1/(2*M))*((y[i]-sum(m*x[i]))**2)\n",
    "    return cost\n",
    "\n",
    "def step_gradient(x , y , lr, m):\n",
    "    m_slope= np.zeros(len(x[0])) \n",
    "    \n",
    "    \n",
    "    M = len(x)\n",
    "    for i in range(M):\n",
    "        X = x[i]\n",
    "        Y = y[i]\n",
    "        for j in range(len(X)):\n",
    "            m_slope[j] += (-1/M)*(Y-sum(m*X))*X[j]\n",
    "\n",
    "    new_m = m - (lr*m_slope)\n",
    "    return new_m\n",
    "    \n",
    "def gd(x,y , lr , num):\n",
    "    m = np.zeros(len(x[0]))\n",
    "    \n",
    "    for i in range(num):\n",
    "        m = step_gradient(x,y, lr , m )\n",
    "        print(i, \"Cost: \", cost(x,y,m))\n",
    "        plt.scatter(i,cost(x,y,m))\n",
    "    plt.xlabel('Number of Features')\n",
    "    plt.ylabel('Cost Function Value')\n",
    "    plt.show()\n",
    "    \n",
    "    return m"
   ]
  },
  {
   "cell_type": "code",
   "execution_count": 4,
   "metadata": {},
   "outputs": [],
   "source": [
    "x = test.copy()"
   ]
  },
  {
   "cell_type": "code",
   "execution_count": 5,
   "metadata": {},
   "outputs": [],
   "source": [
    "def run(train,test):\n",
    "    x = train[:,:-1]\n",
    "    y = []\n",
    "    for i in range(len(x[0])):\n",
    "    \n",
    "        for j in range(i,len(x[0])):\n",
    "        \n",
    "            y.append(x[:,i]*x[:,j] )\n",
    "    y = np.array(y)\n",
    "    for i in y:\n",
    "        x = np.append(x, i.reshape(-1,1), axis =1) \n",
    "    \n",
    "    scaler = preprocessing.StandardScaler()\n",
    "    scaler.fit(x)\n",
    "    x = scaler.transform(x)\n",
    "    \n",
    "    x = np.append(x, np.ones(len(x)).reshape(-1,1), axis = 1)\n",
    "    \n",
    "    y= train[:,-1]\n",
    "    lr = 0.07\n",
    "    \n",
    "    num = 300\n",
    "    m = gd(x,y,lr,num)\n",
    "    \n",
    "    y = []\n",
    "    for i in range(len(test[0])):\n",
    "        for j in range(i,len(test[0])):\n",
    "            y.append(test[:,i]*test[:,j] )\n",
    "    y = np.array(y)\n",
    "    for i in y:\n",
    "        test = np.append(test, i.reshape(-1,1), axis =1)\n",
    "    \n",
    "    \n",
    "  \n",
    " \n",
    "    \n",
    "    test1 = scaler.transform(test)\n",
    "    x_test = np.append(test1,np.ones(len(test1)).reshape(-1,1), axis = 1)\n",
    "    \n",
    "    y_pred = []\n",
    "    for i in x_test:\n",
    "        y_pred.append(sum(i*m))\n",
    "    #for i in y_pred:\n",
    "        #print(i)\n",
    "    y_pred = np.array(y_pred)\n",
    "    return y_pred"
   ]
  },
  {
   "cell_type": "code",
   "execution_count": null,
   "metadata": {},
   "outputs": [],
   "source": [
    "y_pred = run(train,test)"
   ]
  }
 ],
 "metadata": {
  "kernelspec": {
   "display_name": "Python 3",
   "language": "python",
   "name": "python3"
  },
  "language_info": {
   "codemirror_mode": {
    "name": "ipython",
    "version": 3
   },
   "file_extension": ".py",
   "mimetype": "text/x-python",
   "name": "python",
   "nbconvert_exporter": "python",
   "pygments_lexer": "ipython3",
   "version": "3.7.6"
  }
 },
 "nbformat": 4,
 "nbformat_minor": 2
}
