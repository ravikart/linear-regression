{
 "cells": [
  {
   "cell_type": "code",
   "execution_count": 29,
   "metadata": {},
   "outputs": [
    {
     "name": "stdout",
     "output_type": "stream",
     "text": [
      "<class 'pandas.core.frame.DataFrame'>\n",
      "RangeIndex: 668 entries, 0 to 667\n",
      "Data columns (total 10 columns):\n",
      " #   Column    Non-Null Count  Dtype  \n",
      "---  ------    --------------  -----  \n",
      " 0   Pclass    668 non-null    int64  \n",
      " 1   Name      668 non-null    object \n",
      " 2   Sex       668 non-null    object \n",
      " 3   Age       536 non-null    float64\n",
      " 4   SibSp     668 non-null    int64  \n",
      " 5   Parch     668 non-null    int64  \n",
      " 6   Fare      668 non-null    float64\n",
      " 7   Embarked  667 non-null    object \n",
      " 8   Survived  668 non-null    int64  \n",
      " 9   Title     668 non-null    object \n",
      "dtypes: float64(2), int64(4), object(4)\n",
      "memory usage: 52.3+ KB\n",
      "None\n",
      "Sex       female  male\n",
      "Title                 \n",
      "Capt           0     1\n",
      "Col            0     1\n",
      "Don            0     1\n",
      "Dr             0     2\n",
      "Jonkheer       0     1\n",
      "Lady           1     0\n",
      "Major          0     1\n",
      "Master         0    30\n",
      "Miss         130     0\n",
      "Mlle           2     0\n",
      "Mme            1     0\n",
      "Mr             0   385\n",
      "Mrs          106     0\n",
      "Ms             1     0\n",
      "Rev            0     4\n",
      "Sir            0     1\n"
     ]
    }
   ],
   "source": [
    "import numpy as np\n",
    "import pandas as pd\n",
    "from sklearn.linear_model import LogisticRegression\n",
    "\n",
    "trainData = pd.read_csv('training_titanic_x_y_train.csv',delimiter=\",\")\n",
    "testData = pd.read_csv('test_titanic_x_test.csv',delimiter=\",\")\n",
    "\n",
    "#trainData = pd.concat([trainData,testData],axis=0)\n",
    "\n",
    "\n",
    "trainData = trainData.drop(['Ticket','Cabin'],axis=1)\n",
    "trainData['Title'] = trainData.Name.str.extract(' ([A-Za-z]+)\\.',expand=False)\n",
    "testData = testData.drop(['Ticket','Cabin'],axis=1)\n",
    "print(trainData.info())\n",
    "\n",
    "print(pd.crosstab(trainData['Title'],trainData['Sex']))\n",
    "\n",
    "trainData['Title'] = trainData['Title'].replace(['Lady','Capt','Col','Countess'.'Don','Dr','Major','Rev','Sir','Jonkheer','Dona'],'Rare')\n",
    "trainData['Title'] = trainData['Title'].replace('Mlle','Miss')\n",
    "trainData['Title'] = trainData['Title'].replace('Ms','Miss')\n",
    "trainData['Title'] = trainData['Title'].replace(['Lady','Capt','Col','Countess'.'Don','Dr','Major','Rev','Sir','Jonkheer','Dona'],'Rare')\n",
    "trainData['Title'] = trainData['Title'].replace(['Lady','Capt','Col','Countess'.'Don','Dr','Major','Rev','Sir','Jonkheer','Dona'],'Rare')\n",
    "\n",
    "\n",
    "\n"
   ]
  }
 ],
 "metadata": {
  "kernelspec": {
   "display_name": "Python 3",
   "language": "python",
   "name": "python3"
  },
  "language_info": {
   "codemirror_mode": {
    "name": "ipython",
    "version": 3
   },
   "file_extension": ".py",
   "mimetype": "text/x-python",
   "name": "python",
   "nbconvert_exporter": "python",
   "pygments_lexer": "ipython3",
   "version": "3.7.6"
  }
 },
 "nbformat": 4,
 "nbformat_minor": 4
}
