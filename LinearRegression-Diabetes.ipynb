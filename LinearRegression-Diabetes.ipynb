{
 "cells": [
  {
   "cell_type": "code",
   "execution_count": 1,
   "metadata": {},
   "outputs": [
    {
     "name": "stdout",
     "output_type": "stream",
     "text": [
      "0.01812688821752266\n"
     ]
    }
   ],
   "source": [
    "from sklearn.linear_model import LogisticRegression\n",
    "import numpy as np\n",
    "\n",
    "training_data = np.genfromtxt('train.csv',delimiter=\",\",autostrip=True)\n",
    "test_data = np.genfromtxt('test.csv',delimiter=\",\",autostrip=True)\n",
    "\n",
    "x_train = training_data[:,:-1]\n",
    "y_train = training_data[:,-1:]\n",
    "\n",
    "\n",
    "x_test = test_data[:,:]\n",
    "\n",
    "value = LogisticRegression().fit(x_train,y_train.ravel())\n",
    "\n",
    "scoreValue = value.score(x_train,y_train)\n",
    "\n",
    "#print(scoreValue)\n",
    "result  = value.predict(x_test)\n",
    "\n",
    "result = result.reshape(111,-1)\n",
    "\n",
    "predictedOutput = np.concatenate((x_test, result), axis=1)\n",
    "\n",
    "\n",
    "np.savetxt('output.csv',predictedOutput,delimiter=\",\",fmt='%.5f')\n",
    "\n"
   ]
  }
 ],
 "metadata": {
  "kernelspec": {
   "display_name": "Python 3",
   "language": "python",
   "name": "python3"
  },
  "language_info": {
   "codemirror_mode": {
    "name": "ipython",
    "version": 3
   },
   "file_extension": ".py",
   "mimetype": "text/x-python",
   "name": "python",
   "nbconvert_exporter": "python",
   "pygments_lexer": "ipython3",
   "version": "3.7.6"
  }
 },
 "nbformat": 4,
 "nbformat_minor": 4
}
