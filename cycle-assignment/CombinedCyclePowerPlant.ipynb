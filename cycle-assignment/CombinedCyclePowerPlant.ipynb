{
 "cells": [
  {
   "cell_type": "code",
   "execution_count": 2,
   "metadata": {},
   "outputs": [],
   "source": [
    "import numpy as np\n",
    "import pandas as pd\n",
    "from sklearn import preprocessing\n",
    "\n",
    "trainData = pd.read_csv('training_ccpp_x_y_train.csv',delimiter=\",\")\n",
    "\n",
    "Y = trainData[' EP']\n",
    "del trainData[' EP']\n",
    "\n",
    "std_scale = preprocessing.StandardScaler().fit(trainData)\n",
    "trainData= std_scale.transform(trainData)\n",
    "\n",
    "additionalColumn = np.ones(trainData.shape[0])\n",
    "\n",
    "trainData = pd.DataFrame(trainData)\n",
    "trainData['additionalColumn'] = additionalColumn \n",
    "\n",
    "np_train_data = np.array(trainData)\n",
    "\n",
    "\n",
    "\n"
   ]
  },
  {
   "cell_type": "code",
   "execution_count": 3,
   "metadata": {},
   "outputs": [],
   "source": [
    "def step_gradient(np_train_data,learning_rate,m):\n",
    "    m_slope = np.zeros(5)\n",
    "    N = len(np_train_data)\n",
    "    for i in range(N):\n",
    "        xValue = np_train_data[i]\n",
    "        yValue = Y[i]\n",
    "        for j in range(5):\n",
    "            m_slope[j] = m_slope[j] + (-2/N)*((yValue-(m*xValue).sum())*(xValue[j]))\n",
    "    for j in range(5):\n",
    "        m[j] = m[j] - (learning_rate*(m_slope[j]))\n",
    "    return m"
   ]
  },
  {
   "cell_type": "code",
   "execution_count": 4,
   "metadata": {},
   "outputs": [],
   "source": [
    "def cost(np_train_data, m):\n",
    "    total_cost = 0\n",
    "    N = len(np_train_data)\n",
    "    for i in range(N):\n",
    "        xValue = np_train_data[i]\n",
    "        yValue = Y[i]\n",
    "        #total_cost = total_cost + ((yValue - (m*xValue).sum() )**2)\n",
    "        total_cost += (1/N)*((yValue - (m*xValue).sum() )**2)\n",
    "    #total_cost = total_cost * (1/N)\n",
    "    return total_cost"
   ]
  },
  {
   "cell_type": "code",
   "execution_count": 5,
   "metadata": {},
   "outputs": [],
   "source": [
    "def gd(np_train_data,learning_rate,num_iterations):\n",
    "    m = np.zeros(5)\n",
    "    for i in range(num_iterations):\n",
    "        m = step_gradient(np_train_data,learning_rate,m)\n",
    "        costData = cost(np_train_data,m)\n",
    "        if((i+1) % 100 == 0):\n",
    "            print(i,\"Cost: \",costData)\n",
    "    return m"
   ]
  },
  {
   "cell_type": "code",
   "execution_count": 6,
   "metadata": {},
   "outputs": [],
   "source": [
    "def run():\n",
    "    learning_rate = 0.080\n",
    "    num_iterations = 600\n",
    "    m = gd(np_train_data,learning_rate,num_iterations)\n",
    "    return m"
   ]
  },
  {
   "cell_type": "code",
   "execution_count": 7,
   "metadata": {},
   "outputs": [
    {
     "name": "stdout",
     "output_type": "stream",
     "text": [
      "99 Cost:  21.32120495575709\n",
      "199 Cost:  20.927107702912753\n",
      "299 Cost:  20.912325096576588\n",
      "399 Cost:  20.911770600090946\n",
      "499 Cost:  20.91174980089308\n",
      "599 Cost:  20.911749020713962\n"
     ]
    }
   ],
   "source": [
    "m = run()"
   ]
  },
  {
   "cell_type": "code",
   "execution_count": 8,
   "metadata": {},
   "outputs": [],
   "source": [
    "testData = pd.read_csv('test_ccpp_x_test.csv',delimiter=\",\",header=None)\n",
    "\n",
    "testData= std_scale.transform(testData)\n",
    "testData=pd.DataFrame(testData)\n",
    "\n",
    "\n",
    "additionalColumn = np.ones(testData.shape[0])\n",
    "\n",
    "testData['additionalColumn'] = additionalColumn\n",
    "\n",
    "Y_test = []\n",
    "\n",
    "M = testData.shape[0]\n",
    "\n",
    "\n",
    "np_test_data = np.array(testData)\n",
    "\n",
    "\n",
    "for i in range(M):\n",
    "    xValue = np_test_data[i]\n",
    "    value = (m*xValue).sum()\n",
    "    #print(value)\n",
    "    Y_test.append(value)\n",
    "    \n",
    "np.savetxt('output.csv', Y_test, delimiter=',',fmt='%.5f')\n",
    "\n",
    "\n",
    "\n"
   ]
  }
 ],
 "metadata": {
  "kernelspec": {
   "display_name": "Python 3",
   "language": "python",
   "name": "python3"
  },
  "language_info": {
   "codemirror_mode": {
    "name": "ipython",
    "version": 3
   },
   "file_extension": ".py",
   "mimetype": "text/x-python",
   "name": "python",
   "nbconvert_exporter": "python",
   "pygments_lexer": "ipython3",
   "version": "3.7.6"
  }
 },
 "nbformat": 4,
 "nbformat_minor": 4
}
